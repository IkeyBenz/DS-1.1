{
 "cells": [
  {
   "cell_type": "code",
   "execution_count": 1,
   "metadata": {},
   "outputs": [],
   "source": [
    "# Activate intellisense for this notebook:\n",
    "# Press tab while hovering over a python object to reveal its methods\n",
    "%config IPCompleter.greedy=True"
   ]
  },
  {
   "cell_type": "markdown",
   "metadata": {},
   "source": [
    "# Kickstarter Dataset"
   ]
  },
  {
   "cell_type": "code",
   "execution_count": null,
   "metadata": {},
   "outputs": [],
   "source": [
    "import pandas as pd\n",
    "import numpy as np\n",
    "import seaborn as sns\n",
    "\n",
    "df = pd.read_csv(\"./kickstarter-projects/ks-projects-201801.csv\")[:1000]\n",
    "\n",
    "df.head()"
   ]
  },
  {
   "cell_type": "markdown",
   "metadata": {},
   "source": [
    "## Data Cleaning\n",
    "    1) I don't care about the project ID's so I'm going to drop that column.\n",
    "    2) For simplicity, I'm only going to use the usd_pledged_real conversion option for every price measurement, so that I don't have to deal with currency issues. (Dropping columns 'usd pledged', 'pledged', and 'currency'.\n",
    "    3) I need to fix the launched date so that it matches the deadline (remove time)\n",
    "    \n",
    "    "
   ]
  },
  {
   "cell_type": "code",
   "execution_count": null,
   "metadata": {},
   "outputs": [],
   "source": [
    "\n",
    "df = df.drop(columns=[\"ID\", \"usd pledged\", \"pledged\", \"currency\", \"goal\"])\n",
    "df = df.rename(columns={\"usd_pledged_real\": \"pledged\", \"usd_goal_real\": \"goal\"})\n",
    "\n",
    "df['launched'] = df['launched'].apply(lambda x: x.split(' ')[0])\n",
    "\n",
    "df = df.dropna()\n",
    "df.head()"
   ]
  },
  {
   "cell_type": "markdown",
   "metadata": {},
   "source": [
    "## Diving Into The Data\n",
    "---\n",
    "### Our main points of focus:\n",
    "    1) What is the median timeframe for a kickstarter project?\n",
    "        > Is there a corrolation between success rate and timeframe?\n",
    "        > Is there a correlation between date launched and timeframe?\n",
    "     2) Does the goal amount affect a projects success rate?\n",
    "        > Compare the average goal amounts of projects that failed vs succeeded\n",
    "     3) What was the most successful general category?"
   ]
  },
  {
   "cell_type": "markdown",
   "metadata": {},
   "source": [
    "## What is the median timeframe for a kickstarter project?\n",
    "---\n",
    "#### Answer: 30 days."
   ]
  },
  {
   "cell_type": "code",
   "execution_count": null,
   "metadata": {},
   "outputs": [],
   "source": [
    "from datetime import date\n",
    "def date_difference_days(row):\n",
    "    split_components = lambda d: list(map(int, d.split('-')))\n",
    "    \n",
    "    d1, d2 = split_components(row.launched), split_components(row.deadline)\n",
    "    launched = date(d1[0], d1[1], d1[2])\n",
    "    deadline = date(d2[0], d2[1], d2[2])\n",
    "\n",
    "    return (deadline - launched).days\n",
    "\n",
    "df['days'] = df.apply(date_difference_days, axis=1)\n",
    "\n",
    "# Remove outliers:\n",
    "df = df[np.abs(df.days-df.days.mean()) <= 3*df.days.std()]\n",
    "df.days.median()"
   ]
  },
  {
   "cell_type": "markdown",
   "metadata": {},
   "source": [
    "## Is there a corrolation between timeframe and success rate?\n",
    "---\n",
    "#### In all likelihood, we can't assume that timeframe is corrolated with success rate. But we do see from the graph below that projects that last longer than 60 days rarely recieve pledges. Maybe they're too ambicious/over-scoped?"
   ]
  },
  {
   "cell_type": "code",
   "execution_count": null,
   "metadata": {},
   "outputs": [],
   "source": [
    "plot = df.plot.scatter(x=\"days\", y=\"pledged\")"
   ]
  },
  {
   "cell_type": "markdown",
   "metadata": {},
   "source": [
    "# Is there a corrolation between date started/deadline date and success rate?\n",
    "---"
   ]
  },
  {
   "cell_type": "code",
   "execution_count": null,
   "metadata": {},
   "outputs": [],
   "source": [
    "# Add helper columns\n",
    "split_components = lambda d: list(map(int, d.split('-')))\n",
    "def getEndMonth(row):\n",
    "    return split_components(row.deadline)[1]\n",
    "def getStartMonth(row):\n",
    "    return split_components(row.launched)[1]\n",
    "\n",
    "df['start_month'] = df.apply(getStartMonth, axis=1)\n",
    "df['end_month'] = df.apply(getEndMonth, axis=1)"
   ]
  },
  {
   "cell_type": "code",
   "execution_count": null,
   "metadata": {},
   "outputs": [],
   "source": [
    "sns.countplot(y=\"pledged\", hue=\"start_month\", data=df)"
   ]
  },
  {
   "cell_type": "markdown",
   "metadata": {},
   "source": [
    "## What was the most successful category?"
   ]
  },
  {
   "cell_type": "code",
   "execution_count": null,
   "metadata": {},
   "outputs": [],
   "source": [
    "sns.countplot(x=\"main_category\", hue=\"status\", data=df)"
   ]
  },
  {
   "cell_type": "code",
   "execution_count": null,
   "metadata": {},
   "outputs": [],
   "source": []
  },
  {
   "cell_type": "code",
   "execution_count": null,
   "metadata": {},
   "outputs": [],
   "source": []
  }
 ],
 "metadata": {
  "kernelspec": {
   "display_name": "Python 3",
   "language": "python",
   "name": "python3"
  },
  "language_info": {
   "codemirror_mode": {
    "name": "ipython",
    "version": 3
   },
   "file_extension": ".py",
   "mimetype": "text/x-python",
   "name": "python",
   "nbconvert_exporter": "python",
   "pygments_lexer": "ipython3",
   "version": "3.7.1"
  }
 },
 "nbformat": 4,
 "nbformat_minor": 2
}
