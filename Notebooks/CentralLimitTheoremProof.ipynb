{
 "cells": [
  {
   "cell_type": "markdown",
   "metadata": {},
   "source": [
    "## Attempting to Prove _Central Limit Theorem_"
   ]
  },
  {
   "cell_type": "code",
   "execution_count": 2,
   "metadata": {},
   "outputs": [],
   "source": [
    "import numpy as np\n",
    "import pandas as pd\n",
    "import matplotlib.pyplot as plt\n",
    "import random"
   ]
  },
  {
   "cell_type": "markdown",
   "metadata": {},
   "source": [
    "### Create Random Distribution"
   ]
  },
  {
   "cell_type": "code",
   "execution_count": 3,
   "metadata": {},
   "outputs": [],
   "source": [
    "# Just a list of 1000 random numbers from 1-100\n",
    "bad_data = [random.randint(1, 101) for _ in range(1000)]"
   ]
  },
  {
   "cell_type": "code",
   "execution_count": 4,
   "metadata": {},
   "outputs": [
    {
     "data": {
      "text/plain": [
       "(array([105., 100.,  81.,  92.,  69.,  78., 110.,  90.,  78., 101.,  96.]),\n",
       " array([  1.        ,  10.09090909,  19.18181818,  28.27272727,\n",
       "         37.36363636,  46.45454545,  55.54545455,  64.63636364,\n",
       "         73.72727273,  82.81818182,  91.90909091, 101.        ]),\n",
       " <a list of 11 Patch objects>)"
      ]
     },
     "execution_count": 4,
     "metadata": {},
     "output_type": "execute_result"
    },
    {
     "data": {
      "image/png": "[encoded data removed]",
      "text/plain": [
       "<Figure size 432x288 with 1 Axes>"
      ]
     },
     "metadata": {
      "needs_background": "light"
     },
     "output_type": "display_data"
    }
   ],
   "source": [
    "# The distribution is pretty even\n",
    "plt.hist(bad_data, bins=\"auto\")"
   ]
  },
  {
   "cell_type": "code",
   "execution_count": 5,
   "metadata": {},
   "outputs": [],
   "source": [
    "def get_sample_mean(data, n=30):\n",
    "    \"\"\" Grab one sample mean from previously generated (bad) data.\n",
    "        (The average of n randomly chosen numbers from our list)\"\"\"\n",
    "    return sum(random.choices(data, k=n)) / n\n",
    "\n",
    "# sample_distribution = np.array(sorted([sum(random.choices(numbers, k=30)) // 30 for i in range(30)]))"
   ]
  },
  {
   "cell_type": "code",
   "execution_count": 6,
   "metadata": {},
   "outputs": [
    {
     "data": {
      "text/plain": [
       "47.13333333333333"
      ]
     },
     "execution_count": 6,
     "metadata": {},
     "output_type": "execute_result"
    }
   ],
   "source": [
    "get_sample_mean(bad_data)"
   ]
  },
  {
   "cell_type": "code",
   "execution_count": 7,
   "metadata": {},
   "outputs": [],
   "source": [
    "def create_sampling_distribution_of_means(data, n=30, samples=100):\n",
    "    \"\"\" Create and visualize histogram-like distribution of sampling means. \"\"\"\n",
    "    sampling_distribution = list()\n",
    "        \n",
    "    for _ in range(samples):\n",
    "        sampling_distribution.append(get_sample_mean(data, n))\n",
    "        \n",
    "    return plt.hist(sampling_distribution, range=(30, 70), bins=50)"
   ]
  },
  {
   "cell_type": "markdown",
   "metadata": {},
   "source": [
    "### Visualize Sampling Distribution for Means of Original Data"
   ]
  },
  {
   "cell_type": "code",
   "execution_count": 8,
   "metadata": {},
   "outputs": [
    {
     "data": {
      "text/plain": [
       "(array([ 0.,  0.,  0.,  0.,  0.,  0.,  0.,  0.,  1.,  2.,  3.,  1.,  6.,\n",
       "         6., 10., 16.,  7., 19., 15., 12., 16., 25., 22., 24., 26., 35.,\n",
       "        35., 33., 35., 33., 21., 17., 13., 14., 10., 15.,  5., 11.,  2.,\n",
       "         2.,  2.,  2.,  2.,  0.,  2.,  0.,  0.,  0.,  0.,  0.]),\n",
       " array([30. , 30.8, 31.6, 32.4, 33.2, 34. , 34.8, 35.6, 36.4, 37.2, 38. ,\n",
       "        38.8, 39.6, 40.4, 41.2, 42. , 42.8, 43.6, 44.4, 45.2, 46. , 46.8,\n",
       "        47.6, 48.4, 49.2, 50. , 50.8, 51.6, 52.4, 53.2, 54. , 54.8, 55.6,\n",
       "        56.4, 57.2, 58. , 58.8, 59.6, 60.4, 61.2, 62. , 62.8, 63.6, 64.4,\n",
       "        65.2, 66. , 66.8, 67.6, 68.4, 69.2, 70. ]),\n",
       " <a list of 50 Patch objects>)"
      ]
     },
     "execution_count": 8,
     "metadata": {},
     "output_type": "execute_result"
    },
    {
     "data": {
      "image/png": "[encoded data removed]",
      "text/plain": [
       "<Figure size 432x288 with 1 Axes>"
      ]
     },
     "metadata": {
      "needs_background": "light"
     },
     "output_type": "display_data"
    }
   ],
   "source": [
    "# You'll notice that if you take the average of 30 randomly chosen numbers from the list,\n",
    "# 500 times, and plot them in a histogram, the plot looks very similar to the Standard\n",
    "# Deviation chart!!!!!!!!!!\n",
    "create_sampling_distribution_of_means(bad_data, n=30, samples=500)"
   ]
  },
  {
   "cell_type": "markdown",
   "metadata": {},
   "source": [
    "# Central Limit Theorem:\n",
    "\n",
    "**If the number of randomly selected datapoints to calculate our sampling mean is greater than 30 (n>30) and the number of sampling mean estimations is large, our sampling distribution approximates a Normal distribution.**\n",
    "\n",
    "- n > 30\n",
    "- samples is LARGE!"
   ]
  },
  {
   "cell_type": "code",
   "execution_count": 10,
   "metadata": {},
   "outputs": [
    {
     "data": {
      "text/plain": [
       "(array([ 2.,  4.,  6.,  1.,  1., 12.,  5.,  3., 10.,  4.,  8.,  3., 12.,\n",
       "         4.,  3.,  7., 17., 11.,  9.,  5.,  8.,  5.,  8.,  9., 10., 15.,\n",
       "         9., 16.,  9.,  7.,  8.,  7., 10.,  6.,  8., 13.,  2., 13.,  4.,\n",
       "        11.,  5.,  6., 10.,  8.,  5.,  6.,  9.,  4.,  4.,  3.]),\n",
       " array([30. , 30.8, 31.6, 32.4, 33.2, 34. , 34.8, 35.6, 36.4, 37.2, 38. ,\n",
       "        38.8, 39.6, 40.4, 41.2, 42. , 42.8, 43.6, 44.4, 45.2, 46. , 46.8,\n",
       "        47.6, 48.4, 49.2, 50. , 50.8, 51.6, 52.4, 53.2, 54. , 54.8, 55.6,\n",
       "        56.4, 57.2, 58. , 58.8, 59.6, 60.4, 61.2, 62. , 62.8, 63.6, 64.4,\n",
       "        65.2, 66. , 66.8, 67.6, 68.4, 69.2, 70. ]),\n",
       " <a list of 50 Patch objects>)"
      ]
     },
     "execution_count": 10,
     "metadata": {},
     "output_type": "execute_result"
    },
    {
     "data": {
      "image/png": "[encoded data removed]",
      "text/plain": [
       "<Figure size 432x288 with 1 Axes>"
      ]
     },
     "metadata": {
      "needs_background": "light"
     },
     "output_type": "display_data"
    }
   ],
   "source": [
    "create_sampling_distribution_of_means(bad_data, n=3, samples=500)"
   ]
  },
  {
   "cell_type": "code",
   "execution_count": null,
   "metadata": {},
   "outputs": [],
   "source": [
    "# When n is small, you don't get a normal distribution!"
   ]
  },
  {
   "cell_type": "code",
   "execution_count": null,
   "metadata": {},
   "outputs": [],
   "source": []
  }
 ],
 "metadata": {
  "kernelspec": {
   "display_name": "Python 3",
   "language": "python",
   "name": "python3"
  },
  "language_info": {
   "codemirror_mode": {
    "name": "ipython",
    "version": 3
   },
   "file_extension": ".py",
   "mimetype": "text/x-python",
   "name": "python",
   "nbconvert_exporter": "python",
   "pygments_lexer": "ipython3",
   "version": "3.7.1"
  }
 },
 "nbformat": 4,
 "nbformat_minor": 2
}
