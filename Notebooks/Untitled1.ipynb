{
 "cells": [
  {
   "cell_type": "code",
   "execution_count": 5,
   "metadata": {},
   "outputs": [],
   "source": [
    "import numpy as np\n",
    "import pandas as pd\n"
   ]
  },
  {
   "cell_type": "code",
   "execution_count": 6,
   "metadata": {},
   "outputs": [],
   "source": [
    "def outlier_detection_removal(dataset):\n",
    "    # Calculate Mean:\n",
    "    mean = sum(dataset) / len(dataset)\n",
    "    # Calculate SD:\n",
    "    SD = np.std(dataset)\n",
    "    \n",
    "    maximum = mean + 3*SD\n",
    "    minimum = mean - 3*SD\n",
    "    \n",
    "    return [num for num in dataset if minimum <= num <= maximum]"
   ]
  },
  {
   "cell_type": "code",
   "execution_count": 8,
   "metadata": {},
   "outputs": [
    {
     "name": "stdout",
     "output_type": "stream",
     "text": [
      "[1, 2, 1, 3, 2, 1, 2, 6, 1, 2]\n"
     ]
    }
   ],
   "source": [
    "data = [1,2,1,3,2,1,2,6,1,2,20]\n",
    "print(outlier_detection_removal(data))"
   ]
  },
  {
   "cell_type": "code",
   "execution_count": null,
   "metadata": {},
   "outputs": [],
   "source": []
  }
 ],
 "metadata": {
  "kernelspec": {
   "display_name": "Python 3",
   "language": "python",
   "name": "python3"
  },
  "language_info": {
   "codemirror_mode": {
    "name": "ipython",
    "version": 3
   },
   "file_extension": ".py",
   "mimetype": "text/x-python",
   "name": "python",
   "nbconvert_exporter": "python",
   "pygments_lexer": "ipython3",
   "version": "3.7.1"
  }
 },
 "nbformat": 4,
 "nbformat_minor": 2
}
